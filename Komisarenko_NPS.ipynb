{
 "cells": [
  {
   "cell_type": "markdown",
   "id": "1e7b4a3b",
   "metadata": {},
   "source": [
    "# Проектная работа\n",
    "# Оценка потребительской лояльности (NPS) телекоммуникационной компании\n"
   ]
  },
  {
   "cell_type": "markdown",
   "id": "db6f8465",
   "metadata": {},
   "source": [
    "# Описание проекта\n",
    "\n",
    "Заказчик этого исследования — большая телекоммуникационная компания, которая оказывает услуги на территории всего СНГ. Перед компанией стоит задача определить текущий уровень потребительской лояльности, или NPS (от англ. Net Promoter Score), среди клиентов из России. \n",
    "\n",
    "<strong>Задача:</strong> определить текущий уровень потребительской лояльности (NPS).\n",
    "\n"
   ]
  },
  {
   "cell_type": "markdown",
   "id": "376cf8e0",
   "metadata": {},
   "source": [
    "## План проекта\n",
    "\n",
    "### Шаг 1. Подключение к базе. \n",
    "Получить доступ к базе данных. Данные представлены базой данных SQLite, одним файлом.\n",
    "\n",
    "### Шаг 2. Выгрузка данных. \n",
    "Подготовить данные для дашборда. Преобразовывать данные. \n",
    "\n",
    "### Шаг 3. Создание дашборда в Tableau. \n",
    "Построить дашборд, который представит информацию о текущем уровне NPS среди клиентов и покажет, как этот уровень меняется в зависимости от пользовательских признаков. \n",
    "\n",
    "### Шаг 4. Ответьте на вопросы с помощью дашборда\n",
    "Используя дашборд, ответить на вопросы:\n",
    "1. Как распределены участники опроса по возрасту и полу? Каких пользователей больше: новых или старых? Пользователи из каких городов активнее участвовали в опросе?\n",
    "2. Какие группы пользователей наиболее лояльны к сервису? Какие менее?\n",
    "3. Какой общий NPS среди всех опрошенных?\n",
    "4. Как можно описать клиентов, которые относятся к группе cторонников (англ. promoters)?"
   ]
  },
  {
   "cell_type": "markdown",
   "id": "6908d4fb",
   "metadata": {},
   "source": [
    "## Ход работы:"
   ]
  },
  {
   "cell_type": "code",
   "execution_count": 1,
   "id": "28e4e539",
   "metadata": {},
   "outputs": [],
   "source": [
    "#Шаг 1:"
   ]
  },
  {
   "cell_type": "code",
   "execution_count": 2,
   "id": "4e158822",
   "metadata": {},
   "outputs": [],
   "source": [
    "import os\n",
    "import pandas as pd\n",
    "import numpy as np\n",
    "\n",
    "from sqlalchemy import create_engine"
   ]
  },
  {
   "cell_type": "code",
   "execution_count": 3,
   "id": "0017f8e7",
   "metadata": {
    "scrolled": true
   },
   "outputs": [],
   "source": [
    "path_to_db_platform = 'C:/Users/System_10/Desktop/DA+/Python Projects/telecomm_csi.db'\n",
    "path_to_db = None\n",
    "\n",
    "if os.path.exists(path_to_db_platform):\n",
    "    path_to_db = path_to_db_platform\n",
    "else:\n",
    "    raise Exception('Файл с базой данных SQLite не найден!')\n",
    "\n",
    "if path_to_db:\n",
    "    engine = create_engine(f'sqlite:///{path_to_db}', echo=False)"
   ]
  },
  {
   "cell_type": "code",
   "execution_count": 4,
   "id": "52aea519",
   "metadata": {},
   "outputs": [],
   "source": [
    "#Шаг 2:"
   ]
  },
  {
   "cell_type": "code",
   "execution_count": 5,
   "id": "6ed25f92",
   "metadata": {},
   "outputs": [],
   "source": [
    "query = \"\"\"\n",
    "    SELECT a.user_id,\n",
    "            a.lt_day,\n",
    "            CASE \n",
    "               WHEN a.lt_day <= 365 THEN 'new'\n",
    "               ELSE 'old'\n",
    "            END AS is_new,\n",
    "            a.age,\n",
    "            CASE \n",
    "               WHEN a.gender_segment = 1 THEN 'female'\n",
    "               WHEN a.gender_segment = 0 THEN 'male'\n",
    "               ELSE 'other'\n",
    "            END AS gender_segment,\n",
    "            a.os_name,\n",
    "            a.cpe_type_name,\n",
    "            a.nps_score,\n",
    "            CASE \n",
    "               WHEN a.nps_score >= 9 THEN 'promoters'\n",
    "               WHEN a.nps_score < 7 THEN 'detractors'\n",
    "               ELSE 'passives'\n",
    "            END AS nps_group,\n",
    "            b.country,\n",
    "            b.city,\n",
    "            SUBSTRING(c.title, 4) AS age_segment,\n",
    "            SUBSTRING(d.title, 4) AS traffic_segment,\n",
    "            SUBSTRING(e.title, 4) AS lifetime_segment\n",
    "    FROM user a\n",
    "        JOIN location b\n",
    "        USING(location_id)\n",
    "        JOIN age_segment c\n",
    "        USING(age_gr_id)\n",
    "        JOIN traffic_segment d\n",
    "        USING(tr_gr_id)\n",
    "        JOIN lifetime_segment e\n",
    "        USING(lt_gr_id)\n",
    "    WHERE b.country = 'Россия';\n",
    "\"\"\""
   ]
  },
  {
   "cell_type": "code",
   "execution_count": 6,
   "id": "3965faf2",
   "metadata": {},
   "outputs": [
    {
     "data": {
      "text/html": [
       "<div>\n",
       "<style scoped>\n",
       "    .dataframe tbody tr th:only-of-type {\n",
       "        vertical-align: middle;\n",
       "    }\n",
       "\n",
       "    .dataframe tbody tr th {\n",
       "        vertical-align: top;\n",
       "    }\n",
       "\n",
       "    .dataframe thead th {\n",
       "        text-align: right;\n",
       "    }\n",
       "</style>\n",
       "<table border=\"1\" class=\"dataframe\">\n",
       "  <thead>\n",
       "    <tr style=\"text-align: right;\">\n",
       "      <th></th>\n",
       "      <th>user_id</th>\n",
       "      <th>lt_day</th>\n",
       "      <th>is_new</th>\n",
       "      <th>age</th>\n",
       "      <th>gender_segment</th>\n",
       "      <th>os_name</th>\n",
       "      <th>cpe_type_name</th>\n",
       "      <th>nps_score</th>\n",
       "      <th>nps_group</th>\n",
       "      <th>country</th>\n",
       "      <th>city</th>\n",
       "      <th>age_segment</th>\n",
       "      <th>traffic_segment</th>\n",
       "      <th>lifetime_segment</th>\n",
       "    </tr>\n",
       "  </thead>\n",
       "  <tbody>\n",
       "    <tr>\n",
       "      <th>334914</th>\n",
       "      <td>KWVIAH</td>\n",
       "      <td>548</td>\n",
       "      <td>old</td>\n",
       "      <td>23.0</td>\n",
       "      <td>male</td>\n",
       "      <td>ANDROID</td>\n",
       "      <td>SMARTPHONE</td>\n",
       "      <td>10</td>\n",
       "      <td>promoters</td>\n",
       "      <td>Россия</td>\n",
       "      <td>РостовнаДону</td>\n",
       "      <td>16-24</td>\n",
       "      <td>30-35</td>\n",
       "      <td>13-24</td>\n",
       "    </tr>\n",
       "    <tr>\n",
       "      <th>43685</th>\n",
       "      <td>QNNC3Y</td>\n",
       "      <td>1484</td>\n",
       "      <td>old</td>\n",
       "      <td>51.0</td>\n",
       "      <td>female</td>\n",
       "      <td>ANDROID</td>\n",
       "      <td>SMARTPHONE</td>\n",
       "      <td>10</td>\n",
       "      <td>promoters</td>\n",
       "      <td>Россия</td>\n",
       "      <td>Волжский</td>\n",
       "      <td>45-54</td>\n",
       "      <td>50-55</td>\n",
       "      <td>36+</td>\n",
       "    </tr>\n",
       "    <tr>\n",
       "      <th>192324</th>\n",
       "      <td>H6CEEE</td>\n",
       "      <td>150</td>\n",
       "      <td>new</td>\n",
       "      <td>57.0</td>\n",
       "      <td>female</td>\n",
       "      <td>IOS</td>\n",
       "      <td>SMARTPHONE</td>\n",
       "      <td>5</td>\n",
       "      <td>detractors</td>\n",
       "      <td>Россия</td>\n",
       "      <td>Москва</td>\n",
       "      <td>55-64</td>\n",
       "      <td>1-5</td>\n",
       "      <td>4-6</td>\n",
       "    </tr>\n",
       "    <tr>\n",
       "      <th>190101</th>\n",
       "      <td>GB87D6</td>\n",
       "      <td>963</td>\n",
       "      <td>old</td>\n",
       "      <td>28.0</td>\n",
       "      <td>male</td>\n",
       "      <td>ANDROID</td>\n",
       "      <td>SMARTPHONE</td>\n",
       "      <td>7</td>\n",
       "      <td>passives</td>\n",
       "      <td>Россия</td>\n",
       "      <td>Москва</td>\n",
       "      <td>25-34</td>\n",
       "      <td>30-35</td>\n",
       "      <td>25-36</td>\n",
       "    </tr>\n",
       "    <tr>\n",
       "      <th>378379</th>\n",
       "      <td>NHY0UM</td>\n",
       "      <td>5259</td>\n",
       "      <td>old</td>\n",
       "      <td>52.0</td>\n",
       "      <td>female</td>\n",
       "      <td>ANDROID</td>\n",
       "      <td>SMARTPHONE</td>\n",
       "      <td>1</td>\n",
       "      <td>detractors</td>\n",
       "      <td>Россия</td>\n",
       "      <td>СанктПетербург</td>\n",
       "      <td>45-54</td>\n",
       "      <td>15-20</td>\n",
       "      <td>36+</td>\n",
       "    </tr>\n",
       "    <tr>\n",
       "      <th>354121</th>\n",
       "      <td>L7K881</td>\n",
       "      <td>290</td>\n",
       "      <td>new</td>\n",
       "      <td>38.0</td>\n",
       "      <td>male</td>\n",
       "      <td>ANDROID</td>\n",
       "      <td>SMARTPHONE</td>\n",
       "      <td>10</td>\n",
       "      <td>promoters</td>\n",
       "      <td>Россия</td>\n",
       "      <td>Самара</td>\n",
       "      <td>35-44</td>\n",
       "      <td>25-30</td>\n",
       "      <td>7-12</td>\n",
       "    </tr>\n",
       "    <tr>\n",
       "      <th>20315</th>\n",
       "      <td>PCEP1B</td>\n",
       "      <td>1304</td>\n",
       "      <td>old</td>\n",
       "      <td>50.0</td>\n",
       "      <td>female</td>\n",
       "      <td>ANDROID</td>\n",
       "      <td>SMARTPHONE</td>\n",
       "      <td>1</td>\n",
       "      <td>detractors</td>\n",
       "      <td>Россия</td>\n",
       "      <td>Белгород</td>\n",
       "      <td>45-54</td>\n",
       "      <td>5-10</td>\n",
       "      <td>36+</td>\n",
       "    </tr>\n",
       "    <tr>\n",
       "      <th>236166</th>\n",
       "      <td>YGE6A2</td>\n",
       "      <td>61</td>\n",
       "      <td>new</td>\n",
       "      <td>45.0</td>\n",
       "      <td>male</td>\n",
       "      <td>ANDROID</td>\n",
       "      <td>SMARTPHONE</td>\n",
       "      <td>5</td>\n",
       "      <td>detractors</td>\n",
       "      <td>Россия</td>\n",
       "      <td>Москва</td>\n",
       "      <td>45-54</td>\n",
       "      <td>10-15</td>\n",
       "      <td>3</td>\n",
       "    </tr>\n",
       "    <tr>\n",
       "      <th>17298</th>\n",
       "      <td>V6KMO0</td>\n",
       "      <td>952</td>\n",
       "      <td>old</td>\n",
       "      <td>63.0</td>\n",
       "      <td>female</td>\n",
       "      <td>ANDROID</td>\n",
       "      <td>SMARTPHONE</td>\n",
       "      <td>10</td>\n",
       "      <td>promoters</td>\n",
       "      <td>Россия</td>\n",
       "      <td>Барнаул</td>\n",
       "      <td>55-64</td>\n",
       "      <td>1-5</td>\n",
       "      <td>25-36</td>\n",
       "    </tr>\n",
       "    <tr>\n",
       "      <th>139217</th>\n",
       "      <td>LAWJCJ</td>\n",
       "      <td>5572</td>\n",
       "      <td>old</td>\n",
       "      <td>50.0</td>\n",
       "      <td>female</td>\n",
       "      <td>ANDROID</td>\n",
       "      <td>SMARTPHONE</td>\n",
       "      <td>2</td>\n",
       "      <td>detractors</td>\n",
       "      <td>Россия</td>\n",
       "      <td>Краснодар</td>\n",
       "      <td>45-54</td>\n",
       "      <td>15-20</td>\n",
       "      <td>36+</td>\n",
       "    </tr>\n",
       "    <tr>\n",
       "      <th>113878</th>\n",
       "      <td>UXBRNA</td>\n",
       "      <td>4801</td>\n",
       "      <td>old</td>\n",
       "      <td>33.0</td>\n",
       "      <td>female</td>\n",
       "      <td>IOS</td>\n",
       "      <td>SMARTPHONE</td>\n",
       "      <td>5</td>\n",
       "      <td>detractors</td>\n",
       "      <td>Россия</td>\n",
       "      <td>Казань</td>\n",
       "      <td>25-34</td>\n",
       "      <td>0.1-1</td>\n",
       "      <td>36+</td>\n",
       "    </tr>\n",
       "    <tr>\n",
       "      <th>32332</th>\n",
       "      <td>T7F1NR</td>\n",
       "      <td>420</td>\n",
       "      <td>old</td>\n",
       "      <td>24.0</td>\n",
       "      <td>female</td>\n",
       "      <td>IOS</td>\n",
       "      <td>SMARTPHONE</td>\n",
       "      <td>10</td>\n",
       "      <td>promoters</td>\n",
       "      <td>Россия</td>\n",
       "      <td>Владимир</td>\n",
       "      <td>16-24</td>\n",
       "      <td>15-20</td>\n",
       "      <td>13-24</td>\n",
       "    </tr>\n",
       "    <tr>\n",
       "      <th>356495</th>\n",
       "      <td>P69SHK</td>\n",
       "      <td>162</td>\n",
       "      <td>new</td>\n",
       "      <td>27.0</td>\n",
       "      <td>female</td>\n",
       "      <td>ANDROID</td>\n",
       "      <td>SMARTPHONE</td>\n",
       "      <td>10</td>\n",
       "      <td>promoters</td>\n",
       "      <td>Россия</td>\n",
       "      <td>Самара</td>\n",
       "      <td>25-34</td>\n",
       "      <td>5-10</td>\n",
       "      <td>4-6</td>\n",
       "    </tr>\n",
       "    <tr>\n",
       "      <th>31588</th>\n",
       "      <td>MLOP2A</td>\n",
       "      <td>3517</td>\n",
       "      <td>old</td>\n",
       "      <td>33.0</td>\n",
       "      <td>female</td>\n",
       "      <td>ANDROID</td>\n",
       "      <td>SMARTPHONE</td>\n",
       "      <td>6</td>\n",
       "      <td>detractors</td>\n",
       "      <td>Россия</td>\n",
       "      <td>Владимир</td>\n",
       "      <td>25-34</td>\n",
       "      <td>60-65</td>\n",
       "      <td>36+</td>\n",
       "    </tr>\n",
       "    <tr>\n",
       "      <th>320639</th>\n",
       "      <td>CTZ05O</td>\n",
       "      <td>60</td>\n",
       "      <td>new</td>\n",
       "      <td>27.0</td>\n",
       "      <td>male</td>\n",
       "      <td>ANDROID</td>\n",
       "      <td>SMARTPHONE</td>\n",
       "      <td>1</td>\n",
       "      <td>detractors</td>\n",
       "      <td>Россия</td>\n",
       "      <td>Пермь</td>\n",
       "      <td>25-34</td>\n",
       "      <td>10-15</td>\n",
       "      <td>2</td>\n",
       "    </tr>\n",
       "  </tbody>\n",
       "</table>\n",
       "</div>"
      ],
      "text/plain": [
       "       user_id  lt_day is_new   age gender_segment  os_name cpe_type_name  \\\n",
       "334914  KWVIAH     548    old  23.0           male  ANDROID    SMARTPHONE   \n",
       "43685   QNNC3Y    1484    old  51.0         female  ANDROID    SMARTPHONE   \n",
       "192324  H6CEEE     150    new  57.0         female      IOS    SMARTPHONE   \n",
       "190101  GB87D6     963    old  28.0           male  ANDROID    SMARTPHONE   \n",
       "378379  NHY0UM    5259    old  52.0         female  ANDROID    SMARTPHONE   \n",
       "354121  L7K881     290    new  38.0           male  ANDROID    SMARTPHONE   \n",
       "20315   PCEP1B    1304    old  50.0         female  ANDROID    SMARTPHONE   \n",
       "236166  YGE6A2      61    new  45.0           male  ANDROID    SMARTPHONE   \n",
       "17298   V6KMO0     952    old  63.0         female  ANDROID    SMARTPHONE   \n",
       "139217  LAWJCJ    5572    old  50.0         female  ANDROID    SMARTPHONE   \n",
       "113878  UXBRNA    4801    old  33.0         female      IOS    SMARTPHONE   \n",
       "32332   T7F1NR     420    old  24.0         female      IOS    SMARTPHONE   \n",
       "356495  P69SHK     162    new  27.0         female  ANDROID    SMARTPHONE   \n",
       "31588   MLOP2A    3517    old  33.0         female  ANDROID    SMARTPHONE   \n",
       "320639  CTZ05O      60    new  27.0           male  ANDROID    SMARTPHONE   \n",
       "\n",
       "        nps_score   nps_group country            city age_segment  \\\n",
       "334914         10   promoters  Россия    РостовнаДону       16-24   \n",
       "43685          10   promoters  Россия        Волжский       45-54   \n",
       "192324          5  detractors  Россия          Москва       55-64   \n",
       "190101          7    passives  Россия          Москва       25-34   \n",
       "378379          1  detractors  Россия  СанктПетербург       45-54   \n",
       "354121         10   promoters  Россия          Самара       35-44   \n",
       "20315           1  detractors  Россия        Белгород       45-54   \n",
       "236166          5  detractors  Россия          Москва       45-54   \n",
       "17298          10   promoters  Россия         Барнаул       55-64   \n",
       "139217          2  detractors  Россия       Краснодар       45-54   \n",
       "113878          5  detractors  Россия          Казань       25-34   \n",
       "32332          10   promoters  Россия        Владимир       16-24   \n",
       "356495         10   promoters  Россия          Самара       25-34   \n",
       "31588           6  detractors  Россия        Владимир       25-34   \n",
       "320639          1  detractors  Россия           Пермь       25-34   \n",
       "\n",
       "       traffic_segment lifetime_segment  \n",
       "334914           30-35            13-24  \n",
       "43685            50-55              36+  \n",
       "192324             1-5              4-6  \n",
       "190101           30-35            25-36  \n",
       "378379           15-20              36+  \n",
       "354121           25-30             7-12  \n",
       "20315             5-10              36+  \n",
       "236166           10-15                3  \n",
       "17298              1-5            25-36  \n",
       "139217           15-20              36+  \n",
       "113878           0.1-1              36+  \n",
       "32332            15-20            13-24  \n",
       "356495            5-10              4-6  \n",
       "31588            60-65              36+  \n",
       "320639           10-15                2  "
      ]
     },
     "execution_count": 6,
     "metadata": {},
     "output_type": "execute_result"
    }
   ],
   "source": [
    "df = pd.read_sql(query, engine)\n",
    "df.sample(15)"
   ]
  },
  {
   "cell_type": "code",
   "execution_count": 8,
   "id": "35de04ed",
   "metadata": {},
   "outputs": [],
   "source": [
    "df.to_csv(r'C:\\Users\\System_10\\Desktop\\DA+\\Python Projects\\telecomm_csi_tableau.csv', index=False)"
   ]
  },
  {
   "cell_type": "code",
   "execution_count": 9,
   "id": "81a57dca",
   "metadata": {},
   "outputs": [],
   "source": [
    "#Шаг 3-4 в Tableau:"
   ]
  },
  {
   "cell_type": "markdown",
   "id": "2093beac",
   "metadata": {},
   "source": [
    "Ссылка на презентацию:\n",
    "\n",
    "https://public.tableau.com/views/_Komisarenko/_?:language=en-US&:sid=&:display_count=n&:origin=viz_share_link"
   ]
  }
 ],
 "metadata": {
  "ExecuteTimeLog": [
   {
    "duration": 496,
    "start_time": "2024-04-18T23:05:10.345Z"
   },
   {
    "duration": 68,
    "start_time": "2024-04-18T23:05:10.843Z"
   },
   {
    "duration": 2,
    "start_time": "2024-04-18T23:05:10.912Z"
   },
   {
    "duration": 14,
    "start_time": "2024-04-18T23:05:10.916Z"
   },
   {
    "duration": 3713,
    "start_time": "2024-04-18T23:05:10.932Z"
   },
   {
    "duration": 2,
    "start_time": "2024-04-18T23:05:14.647Z"
   },
   {
    "duration": 509,
    "start_time": "2024-04-20T07:27:11.146Z"
   },
   {
    "duration": 67,
    "start_time": "2024-04-20T07:27:13.755Z"
   },
   {
    "duration": 3,
    "start_time": "2024-04-20T07:40:18.459Z"
   },
   {
    "duration": 93,
    "start_time": "2024-04-20T08:19:49.796Z"
   },
   {
    "duration": 2,
    "start_time": "2024-04-20T08:19:58.367Z"
   },
   {
    "duration": 66,
    "start_time": "2024-04-20T08:20:00.116Z"
   },
   {
    "duration": 3,
    "start_time": "2024-04-20T08:20:02.035Z"
   },
   {
    "duration": 3548,
    "start_time": "2024-04-20T08:20:04.177Z"
   },
   {
    "duration": 3356,
    "start_time": "2024-04-20T08:20:15.206Z"
   },
   {
    "duration": 3,
    "start_time": "2024-04-20T13:11:49.141Z"
   },
   {
    "duration": 576,
    "start_time": "2024-04-20T13:11:49.147Z"
   },
   {
    "duration": 85,
    "start_time": "2024-04-20T13:11:49.725Z"
   },
   {
    "duration": 2,
    "start_time": "2024-04-20T13:11:49.812Z"
   },
   {
    "duration": 12,
    "start_time": "2024-04-20T13:11:49.816Z"
   },
   {
    "duration": 4249,
    "start_time": "2024-04-20T13:11:49.830Z"
   },
   {
    "duration": 2,
    "start_time": "2024-04-20T13:11:54.081Z"
   },
   {
    "duration": 3,
    "start_time": "2024-04-20T13:49:35.827Z"
   },
   {
    "duration": 474,
    "start_time": "2024-04-20T13:49:40.946Z"
   },
   {
    "duration": 2,
    "start_time": "2024-04-20T13:50:02.503Z"
   },
   {
    "duration": 419,
    "start_time": "2024-04-20T13:50:06.007Z"
   },
   {
    "duration": 3,
    "start_time": "2024-04-20T13:53:21.958Z"
   },
   {
    "duration": 3232,
    "start_time": "2024-04-20T13:53:23.637Z"
   },
   {
    "duration": 3,
    "start_time": "2024-04-20T14:09:38.462Z"
   },
   {
    "duration": 549,
    "start_time": "2024-04-20T14:09:41.820Z"
   },
   {
    "duration": 3,
    "start_time": "2024-04-20T14:12:08.531Z"
   },
   {
    "duration": 377,
    "start_time": "2024-04-20T14:12:12.551Z"
   },
   {
    "duration": 2,
    "start_time": "2024-04-20T14:13:47.868Z"
   },
   {
    "duration": 3342,
    "start_time": "2024-04-20T14:13:50.308Z"
   },
   {
    "duration": 3,
    "start_time": "2024-04-20T14:14:41.956Z"
   },
   {
    "duration": 625,
    "start_time": "2024-04-20T14:14:43.589Z"
   },
   {
    "duration": 3,
    "start_time": "2024-04-20T14:15:01.547Z"
   },
   {
    "duration": 635,
    "start_time": "2024-04-20T14:15:02.506Z"
   },
   {
    "duration": 3,
    "start_time": "2024-04-20T14:15:20.617Z"
   },
   {
    "duration": 937,
    "start_time": "2024-04-20T14:15:21.396Z"
   },
   {
    "duration": 2,
    "start_time": "2024-04-20T14:40:52.146Z"
   },
   {
    "duration": 661,
    "start_time": "2024-04-20T14:40:53.013Z"
   },
   {
    "duration": 2,
    "start_time": "2024-04-20T14:41:10.452Z"
   },
   {
    "duration": 3258,
    "start_time": "2024-04-20T14:41:11.586Z"
   },
   {
    "duration": 3,
    "start_time": "2024-04-20T14:43:05.244Z"
   },
   {
    "duration": 3006,
    "start_time": "2024-04-20T14:43:07.777Z"
   },
   {
    "duration": 3,
    "start_time": "2024-04-20T14:58:44.788Z"
   },
   {
    "duration": 3,
    "start_time": "2024-04-20T15:12:19.634Z"
   },
   {
    "duration": 3862,
    "start_time": "2024-04-20T15:12:21.144Z"
   },
   {
    "duration": 4,
    "start_time": "2024-04-21T01:20:36.934Z"
   },
   {
    "duration": 483,
    "start_time": "2024-04-21T01:20:36.939Z"
   },
   {
    "duration": 76,
    "start_time": "2024-04-21T01:20:37.424Z"
   },
   {
    "duration": 2,
    "start_time": "2024-04-21T01:20:37.503Z"
   },
   {
    "duration": 3,
    "start_time": "2024-04-21T01:20:37.508Z"
   },
   {
    "duration": 4,
    "start_time": "2024-04-21T01:20:37.512Z"
   },
   {
    "duration": 4013,
    "start_time": "2024-04-21T01:20:37.517Z"
   },
   {
    "duration": 2,
    "start_time": "2024-04-21T01:20:41.531Z"
   },
   {
    "duration": 3,
    "start_time": "2024-04-21T01:22:32.186Z"
   },
   {
    "duration": 3,
    "start_time": "2024-04-21T01:22:40.903Z"
   },
   {
    "duration": 7151,
    "start_time": "2024-04-21T01:22:42.218Z"
   },
   {
    "duration": 3,
    "start_time": "2024-04-21T01:26:34.416Z"
   },
   {
    "duration": 7515,
    "start_time": "2024-04-21T01:26:36.847Z"
   },
   {
    "duration": 2,
    "start_time": "2024-04-21T01:30:28.857Z"
   },
   {
    "duration": 7879,
    "start_time": "2024-04-21T01:30:33.060Z"
   },
   {
    "duration": 3,
    "start_time": "2024-04-21T01:33:08.180Z"
   },
   {
    "duration": 8379,
    "start_time": "2024-04-21T01:33:12.032Z"
   },
   {
    "duration": 8468,
    "start_time": "2024-04-21T01:35:27.127Z"
   },
   {
    "duration": 102,
    "start_time": "2024-04-21T01:39:57.463Z"
   },
   {
    "duration": 4270,
    "start_time": "2024-04-21T01:44:12.210Z"
   },
   {
    "duration": 146,
    "start_time": "2024-04-21T01:46:04.112Z"
   },
   {
    "duration": 4245,
    "start_time": "2024-04-21T01:46:13.020Z"
   },
   {
    "duration": 4434,
    "start_time": "2024-04-21T01:46:40.412Z"
   },
   {
    "duration": 1149,
    "start_time": "2024-04-21T01:47:28.622Z"
   },
   {
    "duration": 21,
    "start_time": "2024-04-21T01:47:45.781Z"
   },
   {
    "duration": 3,
    "start_time": "2024-04-21T02:24:18.748Z"
   },
   {
    "duration": 5491,
    "start_time": "2024-04-21T02:24:21.741Z"
   },
   {
    "duration": 4,
    "start_time": "2024-04-21T14:35:44.055Z"
   },
   {
    "duration": 526,
    "start_time": "2024-04-21T14:35:44.060Z"
   },
   {
    "duration": 89,
    "start_time": "2024-04-21T14:35:44.587Z"
   },
   {
    "duration": 3,
    "start_time": "2024-04-21T14:35:44.677Z"
   },
   {
    "duration": 21,
    "start_time": "2024-04-21T14:35:44.682Z"
   },
   {
    "duration": 23,
    "start_time": "2024-04-21T14:35:44.705Z"
   },
   {
    "duration": 6563,
    "start_time": "2024-04-21T14:35:44.730Z"
   },
   {
    "duration": 5196,
    "start_time": "2024-04-21T14:35:51.295Z"
   },
   {
    "duration": 3,
    "start_time": "2024-04-21T14:35:56.492Z"
   },
   {
    "duration": 2,
    "start_time": "2024-04-21T14:36:29.308Z"
   },
   {
    "duration": 4,
    "start_time": "2024-04-21T17:33:17.868Z"
   },
   {
    "duration": 508,
    "start_time": "2024-04-21T17:33:17.874Z"
   },
   {
    "duration": 10,
    "start_time": "2024-04-21T17:33:18.383Z"
   },
   {
    "duration": 28,
    "start_time": "2024-04-21T17:33:18.394Z"
   },
   {
    "duration": 33,
    "start_time": "2024-04-21T17:33:18.425Z"
   },
   {
    "duration": 30,
    "start_time": "2024-04-21T17:33:18.460Z"
   },
   {
    "duration": 6046,
    "start_time": "2024-04-21T17:33:18.493Z"
   },
   {
    "duration": 3,
    "start_time": "2024-04-21T17:33:30.679Z"
   },
   {
    "duration": 620,
    "start_time": "2024-04-21T17:33:30.684Z"
   },
   {
    "duration": 9,
    "start_time": "2024-04-21T17:33:31.306Z"
   },
   {
    "duration": 34,
    "start_time": "2024-04-21T17:33:31.317Z"
   },
   {
    "duration": 41,
    "start_time": "2024-04-21T17:33:31.353Z"
   },
   {
    "duration": 32,
    "start_time": "2024-04-21T17:33:31.396Z"
   },
   {
    "duration": 6167,
    "start_time": "2024-04-21T17:33:31.430Z"
   },
   {
    "duration": 5008,
    "start_time": "2024-04-21T17:33:37.599Z"
   },
   {
    "duration": 2,
    "start_time": "2024-04-21T17:33:42.609Z"
   },
   {
    "duration": 39,
    "start_time": "2024-04-21T17:33:42.612Z"
   },
   {
    "duration": 664,
    "start_time": "2024-04-21T17:35:51.030Z"
   },
   {
    "duration": 678,
    "start_time": "2024-04-21T17:37:16.038Z"
   },
   {
    "duration": 3,
    "start_time": "2024-04-21T17:37:25.190Z"
   },
   {
    "duration": 679,
    "start_time": "2024-04-21T17:37:26.925Z"
   },
   {
    "duration": 3,
    "start_time": "2024-04-21T17:37:45.069Z"
   },
   {
    "duration": 672,
    "start_time": "2024-04-21T17:37:48.125Z"
   },
   {
    "duration": 5501,
    "start_time": "2024-04-21T17:38:07.685Z"
   },
   {
    "duration": 700,
    "start_time": "2024-04-21T17:38:16.253Z"
   },
   {
    "duration": 2,
    "start_time": "2024-04-21T17:38:24.925Z"
   },
   {
    "duration": 6522,
    "start_time": "2024-04-21T17:38:29.512Z"
   },
   {
    "duration": 703,
    "start_time": "2024-04-21T17:38:36.036Z"
   },
   {
    "duration": 4,
    "start_time": "2024-04-21T19:07:11.801Z"
   },
   {
    "duration": 492,
    "start_time": "2024-04-21T19:07:11.807Z"
   },
   {
    "duration": 10,
    "start_time": "2024-04-21T19:07:12.301Z"
   },
   {
    "duration": 3,
    "start_time": "2024-04-21T19:07:12.313Z"
   },
   {
    "duration": 10,
    "start_time": "2024-04-21T19:07:12.318Z"
   },
   {
    "duration": 9,
    "start_time": "2024-04-21T19:07:12.329Z"
   },
   {
    "duration": 6385,
    "start_time": "2024-04-21T19:07:12.340Z"
   },
   {
    "duration": 4413,
    "start_time": "2024-04-21T19:07:18.726Z"
   },
   {
    "duration": 2,
    "start_time": "2024-04-21T19:07:23.141Z"
   },
   {
    "duration": 69,
    "start_time": "2024-04-21T19:07:23.145Z"
   },
   {
    "duration": 4,
    "start_time": "2024-04-22T08:33:06.720Z"
   },
   {
    "duration": 566,
    "start_time": "2024-04-22T08:33:06.727Z"
   },
   {
    "duration": 78,
    "start_time": "2024-04-22T08:33:07.295Z"
   },
   {
    "duration": 2,
    "start_time": "2024-04-22T08:33:07.376Z"
   },
   {
    "duration": 62,
    "start_time": "2024-04-22T08:33:07.379Z"
   },
   {
    "duration": 16,
    "start_time": "2024-04-22T08:33:07.442Z"
   },
   {
    "duration": 6440,
    "start_time": "2024-04-22T08:33:07.459Z"
   },
   {
    "duration": 3991,
    "start_time": "2024-04-22T08:33:13.900Z"
   },
   {
    "duration": 3,
    "start_time": "2024-04-22T08:33:17.893Z"
   },
   {
    "duration": 87,
    "start_time": "2024-04-22T08:33:17.897Z"
   },
   {
    "duration": 3,
    "start_time": "2024-04-22T08:35:26.766Z"
   },
   {
    "duration": 4,
    "start_time": "2024-04-22T08:35:46.951Z"
   },
   {
    "duration": 553,
    "start_time": "2024-04-22T08:35:46.956Z"
   },
   {
    "duration": 79,
    "start_time": "2024-04-22T08:35:47.511Z"
   },
   {
    "duration": 2,
    "start_time": "2024-04-22T08:35:47.592Z"
   },
   {
    "duration": 18,
    "start_time": "2024-04-22T08:35:47.595Z"
   },
   {
    "duration": 15,
    "start_time": "2024-04-22T08:35:47.614Z"
   },
   {
    "duration": 5943,
    "start_time": "2024-04-22T08:35:47.630Z"
   },
   {
    "duration": 4084,
    "start_time": "2024-04-22T08:35:53.574Z"
   },
   {
    "duration": 2,
    "start_time": "2024-04-22T08:35:57.660Z"
   },
   {
    "duration": 145,
    "start_time": "2024-04-22T08:35:57.664Z"
   },
   {
    "duration": 3,
    "start_time": "2024-04-22T08:39:42.617Z"
   },
   {
    "duration": 513,
    "start_time": "2024-04-22T08:39:42.622Z"
   },
   {
    "duration": 71,
    "start_time": "2024-04-22T08:39:43.136Z"
   },
   {
    "duration": 3,
    "start_time": "2024-04-22T08:39:43.208Z"
   },
   {
    "duration": 6,
    "start_time": "2024-04-22T08:39:43.212Z"
   },
   {
    "duration": 6,
    "start_time": "2024-04-22T08:39:43.219Z"
   },
   {
    "duration": 5746,
    "start_time": "2024-04-22T08:39:43.226Z"
   },
   {
    "duration": 4631,
    "start_time": "2024-04-22T08:39:48.974Z"
   },
   {
    "duration": 3,
    "start_time": "2024-04-22T08:39:53.606Z"
   },
   {
    "duration": 99,
    "start_time": "2024-04-22T08:39:53.610Z"
   },
   {
    "duration": 3,
    "start_time": "2024-04-22T14:47:42.381Z"
   },
   {
    "duration": 490,
    "start_time": "2024-04-22T14:47:42.386Z"
   },
   {
    "duration": 11,
    "start_time": "2024-04-22T14:47:42.877Z"
   },
   {
    "duration": 3,
    "start_time": "2024-04-22T14:47:42.889Z"
   },
   {
    "duration": 9,
    "start_time": "2024-04-22T14:47:42.893Z"
   },
   {
    "duration": 18,
    "start_time": "2024-04-22T14:47:42.903Z"
   },
   {
    "duration": 5306,
    "start_time": "2024-04-22T14:47:42.922Z"
   },
   {
    "duration": 3594,
    "start_time": "2024-04-22T14:47:48.229Z"
   },
   {
    "duration": 2,
    "start_time": "2024-04-22T14:47:51.824Z"
   },
   {
    "duration": 63,
    "start_time": "2024-04-22T14:47:51.827Z"
   },
   {
    "duration": 5246,
    "start_time": "2024-04-22T14:59:45.702Z"
   },
   {
    "duration": 3,
    "start_time": "2024-04-22T15:02:27.123Z"
   },
   {
    "duration": 425,
    "start_time": "2024-04-22T15:02:27.127Z"
   },
   {
    "duration": 8,
    "start_time": "2024-04-22T15:02:27.554Z"
   },
   {
    "duration": 2,
    "start_time": "2024-04-22T15:02:27.563Z"
   },
   {
    "duration": 44,
    "start_time": "2024-04-22T15:02:27.567Z"
   },
   {
    "duration": 11,
    "start_time": "2024-04-22T15:02:27.612Z"
   },
   {
    "duration": 5098,
    "start_time": "2024-04-22T15:02:27.624Z"
   },
   {
    "duration": 3447,
    "start_time": "2024-04-22T15:02:32.724Z"
   },
   {
    "duration": 2,
    "start_time": "2024-04-22T15:02:36.172Z"
   },
   {
    "duration": 93,
    "start_time": "2024-04-22T15:02:36.176Z"
   }
  ],
  "kernelspec": {
   "display_name": "Python 3 (ipykernel)",
   "language": "python",
   "name": "python3"
  },
  "language_info": {
   "codemirror_mode": {
    "name": "ipython",
    "version": 3
   },
   "file_extension": ".py",
   "mimetype": "text/x-python",
   "name": "python",
   "nbconvert_exporter": "python",
   "pygments_lexer": "ipython3",
   "version": "3.9.7"
  },
  "toc": {
   "base_numbering": 1,
   "nav_menu": {},
   "number_sections": true,
   "sideBar": true,
   "skip_h1_title": true,
   "title_cell": "Table of Contents",
   "title_sidebar": "Contents",
   "toc_cell": false,
   "toc_position": {},
   "toc_section_display": true,
   "toc_window_display": false
  }
 },
 "nbformat": 4,
 "nbformat_minor": 5
}
